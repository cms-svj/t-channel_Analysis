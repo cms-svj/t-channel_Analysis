{
 "cells": [
  {
   "cell_type": "markdown",
   "metadata": {},
   "source": [
    "# Make basic plots"
   ]
  },
  {
   "cell_type": "markdown",
   "metadata": {},
   "source": [
    "## Importing packages"
   ]
  },
  {
   "cell_type": "code",
   "execution_count": 1,
   "metadata": {},
   "outputs": [],
   "source": [
    "from coffea import hist\n",
    "from coffea.analysis_objects import JaggedCandidateArray\n",
    "import coffea.nanoevents.methods\n",
    "import coffea.processor as processor\n",
    "import awkward1 as ak\n",
    "import numpy as np\n",
    "import matplotlib.pyplot as plt\n",
    "import os, sys, time, uproot_methods.classes.TVector3"
   ]
  },
  {
   "cell_type": "markdown",
   "metadata": {},
   "source": [
    "## Global configuration"
   ]
  },
  {
   "cell_type": "code",
   "execution_count": 3,
   "metadata": {},
   "outputs": [],
   "source": [
    "# Add coffea packages to the import path\n",
    "venv_path=os.environ['VIRTUAL_ENV']\n",
    "site_path=venv_path+\"/lib/python3.6/site-packages/\"\n",
    "sys.path.insert(0, site_path)\n",
    "\n",
    "# Add local packages to the import path\n",
    "module_path = os.path.abspath(os.path.join('..'))\n",
    "if module_path not in sys.path:\n",
    "    sys.path.append(module_path)\n",
    "\n",
    "# Dask settings\n",
    "useDask = False\n",
    "if useDask:\n",
    "    from distributed import Client\n",
    "    client = Client('coffea-dask.fnal.gov:8786')\n",
    "\n",
    "# Print settings\n",
    "verbose = False"
   ]
  },
  {
   "cell_type": "code",
   "execution_count": 4,
   "metadata": {},
   "outputs": [],
   "source": [
    "iD = \"root://cmseos.fnal.gov//store/user/keanet/CondorOutput/tchannel/BkgNtuples/MCRoot/\"\n",
    "\n",
    "sample_dict16 = {\n",
    "    'QCD16': [\n",
    "        iD+'QCD16_Pt_1000to1400.root',iD+'QCD16_Pt_120to170.root',iD+'QCD16_Pt_1400to1800.root',\n",
    "        iD+'QCD16_Pt_170to300.root',iD+'QCD16_Pt_1800to2400.root',iD+'QCD16_Pt_2400to3200.root',\n",
    "        iD+'QCD16_Pt_300to470.root',iD+'QCD16_Pt_3200toInf.root',iD+'QCD16_Pt_470to600.root',\n",
    "        iD+'QCD16_Pt_600to800.root',iD+'QCD16_Pt_800to1000.root',iD+'QCD16_Pt_80to120.root',\n",
    "    ],\n",
    "    'TTJets16': [\n",
    "        iD+'TTJets16_DiLept.root',iD+'TTJets16_DiLept_genMET_150.root',iD+'TTJets16_HT_1200to2500.root',\n",
    "        iD+'TTJets16_HT_2500toInf.root',iD+'TTJets16_HT_600to800.root',iD+'TTJets16_HT_800to1200.root',\n",
    "        iD+'TTJets16_MC.root',iD+'TTJets16_SingleLeptFromT.root',iD+'TTJets16_SingleLeptFromT_genMET_150.root',\n",
    "        iD+'TTJets16_SingleLeptFromTbar.root',iD+'TTJets16_SingleLeptFromTbar_genMET_150.root',        \n",
    "    ],\n",
    "    'WJets16': [\n",
    "        iD+'WJets16_HT_100to200.root',iD+'WJets16_HT_1200to2500.root',iD+'WJets16_HT_200to400.root',\n",
    "        iD+'WJets16_HT_2500toInf.root',iD+'WJets16_HT_400to600.root',iD+'WJets16_HT_600to800.root',\n",
    "        iD+'WJets16_HT_800to1200.root'       \n",
    "    ],\n",
    "    'ZJets16': [\n",
    "        iD+'ZJets16_HT_100to200.root',iD+'ZJets16_HT_1200to2500.root',iD+'ZJets16_HT_200to400.root',\n",
    "        iD+'ZJets16_HT_2500toInf.root',iD+'ZJets16_HT_400to600.root',iD+'ZJets16_HT_600to800.root',\n",
    "        iD+'ZJets16_HT_800to1200.root'         \n",
    "    ]\n",
    "              }\n",
    "\n",
    "sample_dict17 = {\n",
    "    'QCD17': [\n",
    "        iD+'QCD17_Pt_1000to1400.root',iD+'QCD17_Pt_120to170.root',iD+'QCD17_Pt_1400to1800.root',\n",
    "        iD+'QCD17_Pt_170to300.root',iD+'QCD17_Pt_1800to2400.root',iD+'QCD17_Pt_2400to3200.root',\n",
    "        iD+'QCD17_Pt_300to470_01.root',iD+'QCD17_Pt_300to470_02.root',iD+'QCD17_Pt_300to470_03.root',\n",
    "        iD+'QCD17_Pt_3200toInf.root',iD+'QCD17_Pt_470to600.root',iD+'QCD17_Pt_600to800_01.root',\n",
    "        iD+'QCD17_Pt_600to800_02.root',iD+'QCD17_Pt_600to800_03.root',iD+'QCD17_Pt_800to1000_01.root',\n",
    "        iD+'QCD17_Pt_800to1000_02.root',iD+'QCD17_Pt_800to1000_03.root',iD+'QCD17_Pt_80to120.root',\n",
    "    ],\n",
    "    'TTJets17': [\n",
    "        iD+'TTJets17_DiLept.root',iD+'TTJets17_DiLept_genMET_150.root',iD+'TTJets17_HT_1200to2500.root',\n",
    "        iD+'TTJets17_HT_2500toInf.root',iD+'TTJets17_HT_600to800_01.root',iD+'TTJets17_HT_600to800_02.root',\n",
    "        iD+'TTJets17_HT_600to800_03.root',iD+'TTJets17_HT_800to1200.root',iD+'TTJets17_MC.root',\n",
    "        iD+'TTJets17_SingleLeptFromT.root',iD+'TTJets17_SingleLeptFromT_genMET_150.root',        \n",
    "        iD+'TTJets17_SingleLeptFromTbar.root',iD+'TTJets17_SingleLeptFromTbar_genMET_150.root'\n",
    "    ],  \n",
    "    'WJets17': [\n",
    "        iD+'WJets17_HT_100to200.root',iD+'WJets17_HT_1200to2500.root',iD+'WJets17_HT_200to400.root',\n",
    "        iD+'WJets17_HT_2500toInf.root',iD+'WJets17_HT_400to600.root',iD+'WJets17_HT_600to800.root',\n",
    "        iD+'WJets17_HT_800to1200.root'       \n",
    "    ],\n",
    "    'ZJets17': [\n",
    "        iD+'ZJets17_HT_100to200.root',iD+'ZJets17_HT_1200to2500.root',iD+'ZJets17_HT_200to400.root',\n",
    "        iD+'ZJets17_HT_2500toInf.root',iD+'ZJets17_HT_400to600.root',iD+'ZJets17_HT_600to800.root',\n",
    "        iD+'ZJets17_HT_800to1200.root'         \n",
    "    ]\n",
    "              }\n",
    "\n",
    "sample_dict18PRE = {\n",
    "    'QCD18PRE': [\n",
    "        iD+'QCD18PRE_Pt_1000to1400.root',iD+'QCD18PRE_Pt_120to170.root',iD+'QCD18PRE_Pt_1400to1800.root',\n",
    "        iD+'QCD18PRE_Pt_170to300.root',iD+'QCD18PRE_Pt_1800to2400.root',iD+'QCD18PRE_Pt_2400to3200.root',\n",
    "        iD+'QCD18PRE_Pt_300to470.root',iD+'QCD18PRE_Pt_3200toInf.root',iD+'QCD18PRE_Pt_470to600.root',\n",
    "        iD+'QCD18PRE_Pt_600to800_01.root',iD+'QCD18PRE_Pt_600to800_02.root',iD+'QCD18PRE_Pt_600to800_03.root',\n",
    "        iD+'QCD18PRE_Pt_600to800_04.root',iD+'QCD18PRE_Pt_600to800_05.root',iD+'QCD18PRE_Pt_800to1000.root',\n",
    "        iD+'QCD18PRE_Pt_80to120.root'\n",
    "    ],\n",
    "    'TTJets18PRE': [\n",
    "        iD+'TTJets18PRE_DiLept.root',iD+'TTJets18PRE_HT_1200to2500.root',iD+'TTJets18PRE_HT_2500toInf.root',\n",
    "        iD+'TTJets18PRE_HT_600to800.root',iD+'TTJets18PRE_HT_800to1200.root',iD+'TTJets18PRE_MC.root',\n",
    "        iD+'TTJets18PRE_SingleLeptFromT.root',iD+'TTJets18PRE_SingleLeptFromTbar.root'\n",
    "    ],  \n",
    "    'WJets18PRE': [\n",
    "        iD+'WJets18PRE_HT_100to200.root',iD+'WJets18PRE_HT_1200to2500.root',iD+'WJets18PRE_HT_200to400.root',\n",
    "        iD+'WJets18PRE_HT_2500toInf.root',iD+'WJets18PRE_HT_400to600.root',iD+'WJets18PRE_HT_600to800.root',\n",
    "        iD+'WJets18PRE_HT_800to1200.root'       \n",
    "    ],\n",
    "    'ZJets18PRE': [\n",
    "        iD+'ZJets18PRE_HT_100to200.root',iD+'ZJets18PRE_HT_1200to2500.root',iD+'ZJets18PRE_HT_200to400.root',\n",
    "        iD+'ZJets18PRE_HT_2500toInf.root',iD+'ZJets18PRE_HT_400to600.root',iD+'ZJets18PRE_HT_600to800.root',\n",
    "        iD+'ZJets18PRE_HT_800to1200.root'         \n",
    "    ]\n",
    "              }\n",
    "\n",
    "sample_dict18POST = {\n",
    "    'QCD18POST': [\n",
    "        iD+'QCD18POST_Pt_1000to1400.root',iD+'QCD18POST_Pt_120to170.root',iD+'QCD18POST_Pt_1400to1800.root',\n",
    "        iD+'QCD18POST_Pt_170to300.root',iD+'QCD18POST_Pt_1800to2400.root',iD+'QCD18POST_Pt_2400to3200.root',\n",
    "        iD+'QCD18POST_Pt_300to470.root',iD+'QCD18POST_Pt_3200toInf.root',iD+'QCD18POST_Pt_470to600.root',\n",
    "        iD+'QCD18POST_Pt_600to800_01.root',iD+'QCD18POST_Pt_600to800_02.root',iD+'QCD18POST_Pt_600to800_03.root',\n",
    "        iD+'QCD18POST_Pt_800to1000.root',iD+'QCD18POST_Pt_80to120.root'\n",
    "    ], \n",
    "    'TTJets18POST': [\n",
    "        iD+'TTJets18POST_DiLept.root',iD+'TTJets18POST_HT_1200to2500.root',iD+'TTJets18POST_HT_2500toInf.root',\n",
    "        iD+'TTJets18POST_HT_600to800.root',iD+'TTJets18POST_HT_800to1200.root',iD+'TTJets18POST_MC.root',\n",
    "        iD+'TTJets18POST_SingleLeptFromT.root',iD+'TTJets18POST_SingleLeptFromTbar.root'\n",
    "    ],  \n",
    "    'WJets18POST': [\n",
    "        iD+'WJets18POST_HT_100to200.root',iD+'WJets18POST_HT_1200to2500.root',iD+'WJets18POST_HT_200to400.root',\n",
    "        iD+'WJets18POST_HT_2500toInf.root',iD+'WJets18POST_HT_400to600.root',iD+'WJets18POST_HT_600to800.root',\n",
    "        iD+'WJets18POST_HT_800to1200.root'       \n",
    "    ],\n",
    "    'ZJets18POST': [\n",
    "        iD+'ZJets18POST_HT_100to200.root',iD+'ZJets18POST_HT_1200to2500.root',iD+'ZJets18POST_HT_200to400.root',\n",
    "        iD+'ZJets18POST_HT_2500toInf.root',iD+'ZJets18POST_HT_400to600.root',iD+'ZJets18POST_HT_600to800.root',\n",
    "        iD+'ZJets18POST_HT_800to1200.root'         \n",
    "    ]\n",
    "              }"
   ]
  },
  {
   "cell_type": "markdown",
   "metadata": {},
   "source": [
    "## Get the sample data"
   ]
  },
  {
   "cell_type": "markdown",
   "metadata": {},
   "source": [
    "## Setup the processor"
   ]
  },
  {
   "cell_type": "code",
   "execution_count": 11,
   "metadata": {},
   "outputs": [],
   "source": [
    "class EMJProcessor(processor.ProcessorABC):\n",
    "\n",
    "#     class Charge(Enum):\n",
    "#         FAILED = -1\n",
    "#         NEUTRAL = 0\n",
    "#         CHARGED = 1\n",
    "    \n",
    "    def __init__(self):\n",
    "        dataset_axis = hist.Cat(\"dataset\", \"Primary dataset\")\n",
    "        pt_axis = hist.Bin(\"pt\", r\"$p_{T}$ [GeV]\", 40, 0, 3500)\n",
    "        eta_axis = hist.Bin(\"eta\", r\"$\\eta$\", 15, -7, 7)\n",
    "        phi_axis = hist.Bin(\"phi\", r\"$\\phi$\",15, -3.2, 3.2)\n",
    "        mass_axis = hist.Bin(\"mass\", \"mass [GeV]\",40,0,1200)\n",
    "        \n",
    "        self._accumulator = processor.dict_accumulator({\n",
    "            # Reco jet plots\n",
    "            'jtpt':hist.Hist(\"Counts\", dataset_axis, pt_axis),\n",
    "            'jteta':hist.Hist(\"Counts\", dataset_axis, eta_axis),\n",
    "            'jtphi':hist.Hist(\"Counts\", dataset_axis, phi_axis),\n",
    "            'jtmass':hist.Hist(\"Counts\", dataset_axis, mass_axis),\n",
    "            \n",
    "            # Simple accumulators\n",
    "            'cutflow': processor.defaultdict_accumulator(int),\n",
    "        })\n",
    "    \n",
    "    @property\n",
    "    def accumulator(self):\n",
    "        return self._accumulator\n",
    "    \n",
    "    def process(self, df):\n",
    "        output = self.accumulator.identity()\n",
    "\n",
    "        dataset = df['dataset']\n",
    "        \n",
    "        Jets = JaggedCandidateArray.candidatesfromcounts(\n",
    "            df['nAK8Jets'],\n",
    "            pt=df['AK8Jets_Pt'],\n",
    "            eta=df['AK8Jets_Eta'],\n",
    "            phi=df['AK8Jets_Phi'],\n",
    "            mass=df['AK8Jets_M']\n",
    "        )    \n",
    "        \n",
    "        \n",
    "        evtweights = df[\"weightedLumi\"].reshape(-1, 1).flatten()\n",
    "        output['cutflow']['all events'] += Jets.size\n",
    "        \n",
    "        twoFJets = (Jets.counts >= 2)\n",
    "        Jets = Jets[twoFJets].distincts()\n",
    "        FJetsPt = (Jets.i0['pt'] > 200 and Jets.i1['pt'] > 200)\n",
    "        Jets = Jets[FJetsPt]\n",
    "        \n",
    "        output['jtpt'].fill(dataset=dataset, pt=Jets.pt.flatten())\n",
    "        output['jteta'].fill(dataset=dataset, eta=Jets.eta.flatten())\n",
    "        output['jtphi'].fill(dataset=dataset, phi=Jets.phi.flatten())\n",
    "        output['jtmass'].fill(dataset=dataset, mass=Jets.p4.mass.flatten())\n",
    "\n",
    "        return output\n",
    "\n",
    "    def postprocess(self, accumulator):\n",
    "        return accumulator"
   ]
  },
  {
   "cell_type": "code",
   "execution_count": 12,
   "metadata": {},
   "outputs": [
    {
     "data": {
      "application/vnd.jupyter.widget-view+json": {
       "model_id": "a289156af17b4db3b57c48eb5b767728",
       "version_major": 2,
       "version_minor": 0
      },
      "text/plain": [
       "HBox(children=(FloatProgress(value=0.0, description='Processing', max=8936.0, style=ProgressStyle(description_…"
      ]
     },
     "metadata": {},
     "output_type": "display_data"
    },
    {
     "name": "stdout",
     "output_type": "stream",
     "text": [
      "\n"
     ]
    },
    {
     "ename": "ValueError",
     "evalue": "no column named 'pt'",
     "output_type": "error",
     "traceback": [
      "\u001b[0;31m---------------------------------------------------------------------------\u001b[0m",
      "\u001b[0;31mKeyError\u001b[0m                                  Traceback (most recent call last)",
      "\u001b[0;32m/uscms_data/d3/keanet/SVJ/coffea/EMJAnalysis/coffeaenv/lib/python3.6/site-packages/awkward/array/table.py\u001b[0m in \u001b[0;36m__getitem__\u001b[0;34m(self, where)\u001b[0m\n\u001b[1;32m    597\u001b[0m                     \u001b[0;32mtry\u001b[0m\u001b[0;34m:\u001b[0m\u001b[0;34m\u001b[0m\u001b[0m\n\u001b[0;32m--> 598\u001b[0;31m                         \u001b[0;32mreturn\u001b[0m \u001b[0mself\u001b[0m\u001b[0;34m.\u001b[0m\u001b[0m_contents\u001b[0m\u001b[0;34m[\u001b[0m\u001b[0mwhere\u001b[0m\u001b[0;34m]\u001b[0m\u001b[0;34m[\u001b[0m\u001b[0mindex\u001b[0m\u001b[0;34m]\u001b[0m\u001b[0;34m\u001b[0m\u001b[0m\n\u001b[0m\u001b[1;32m    599\u001b[0m                     \u001b[0;32mexcept\u001b[0m \u001b[0mKeyError\u001b[0m\u001b[0;34m:\u001b[0m\u001b[0;34m\u001b[0m\u001b[0m\n",
      "\u001b[0;31mKeyError\u001b[0m: 'pt'",
      "\nDuring handling of the above exception, another exception occurred:\n",
      "\u001b[0;31mValueError\u001b[0m                                Traceback (most recent call last)",
      "\u001b[0;32m<ipython-input-12-2ea49d4c5e03>\u001b[0m in \u001b[0;36m<module>\u001b[0;34m\u001b[0m\n\u001b[1;32m     11\u001b[0m                                           \u001b[0;34m'flatten'\u001b[0m\u001b[0;34m:\u001b[0m\u001b[0;32mTrue\u001b[0m\u001b[0;34m,\u001b[0m\u001b[0;34m\u001b[0m\u001b[0m\n\u001b[1;32m     12\u001b[0m                                           'workers': 4},\n\u001b[0;32m---> 13\u001b[0;31m                                       \u001b[0mchunksize\u001b[0m\u001b[0;34m=\u001b[0m\u001b[0;36m50000\u001b[0m\u001b[0;34m,\u001b[0m\u001b[0;34m\u001b[0m\u001b[0m\n\u001b[0m\u001b[1;32m     14\u001b[0m                                      )\n\u001b[1;32m     15\u001b[0m \u001b[0;32melse\u001b[0m\u001b[0;34m:\u001b[0m\u001b[0;34m\u001b[0m\u001b[0m\n",
      "\u001b[0;32m/uscms_data/d3/keanet/SVJ/coffea/EMJAnalysis/coffeaenv/lib/python3.6/site-packages/coffea/processor/executor.py\u001b[0m in \u001b[0;36mrun_uproot_job\u001b[0;34m(fileset, treename, processor_instance, executor, executor_args, pre_executor, pre_args, chunksize, maxchunks, metadata_cache)\u001b[0m\n\u001b[1;32m   1066\u001b[0m     }\n\u001b[1;32m   1067\u001b[0m     \u001b[0mexe_args\u001b[0m\u001b[0;34m.\u001b[0m\u001b[0mupdate\u001b[0m\u001b[0;34m(\u001b[0m\u001b[0mexecutor_args\u001b[0m\u001b[0;34m)\u001b[0m\u001b[0;34m\u001b[0m\u001b[0m\n\u001b[0;32m-> 1068\u001b[0;31m     \u001b[0mexecutor\u001b[0m\u001b[0;34m(\u001b[0m\u001b[0mchunks\u001b[0m\u001b[0;34m,\u001b[0m \u001b[0mclosure\u001b[0m\u001b[0;34m,\u001b[0m \u001b[0mwrapped_out\u001b[0m\u001b[0;34m,\u001b[0m \u001b[0;34m**\u001b[0m\u001b[0mexe_args\u001b[0m\u001b[0;34m)\u001b[0m\u001b[0;34m\u001b[0m\u001b[0m\n\u001b[0m\u001b[1;32m   1069\u001b[0m \u001b[0;34m\u001b[0m\u001b[0m\n\u001b[1;32m   1070\u001b[0m     \u001b[0mwrapped_out\u001b[0m\u001b[0;34m[\u001b[0m\u001b[0;34m'metrics'\u001b[0m\u001b[0;34m]\u001b[0m\u001b[0;34m[\u001b[0m\u001b[0;34m'chunks'\u001b[0m\u001b[0;34m]\u001b[0m \u001b[0;34m=\u001b[0m \u001b[0mvalue_accumulator\u001b[0m\u001b[0;34m(\u001b[0m\u001b[0mint\u001b[0m\u001b[0;34m,\u001b[0m \u001b[0mlen\u001b[0m\u001b[0;34m(\u001b[0m\u001b[0mchunks\u001b[0m\u001b[0;34m)\u001b[0m\u001b[0;34m)\u001b[0m\u001b[0;34m\u001b[0m\u001b[0m\n",
      "\u001b[0;32m/uscms_data/d3/keanet/SVJ/coffea/EMJAnalysis/coffeaenv/lib/python3.6/site-packages/coffea/processor/executor.py\u001b[0m in \u001b[0;36miterative_executor\u001b[0;34m(items, function, accumulator, **kwargs)\u001b[0m\n\u001b[1;32m    513\u001b[0m     \u001b[0madd_fn\u001b[0m \u001b[0;34m=\u001b[0m \u001b[0m_iadd\u001b[0m\u001b[0;34m\u001b[0m\u001b[0m\n\u001b[1;32m    514\u001b[0m     \u001b[0;32mfor\u001b[0m \u001b[0mi\u001b[0m\u001b[0;34m,\u001b[0m \u001b[0mitem\u001b[0m \u001b[0;32min\u001b[0m \u001b[0mtqdm\u001b[0m\u001b[0;34m(\u001b[0m\u001b[0menumerate\u001b[0m\u001b[0;34m(\u001b[0m\u001b[0mitems\u001b[0m\u001b[0;34m)\u001b[0m\u001b[0;34m,\u001b[0m \u001b[0mdisable\u001b[0m\u001b[0;34m=\u001b[0m\u001b[0;32mnot\u001b[0m \u001b[0mstatus\u001b[0m\u001b[0;34m,\u001b[0m \u001b[0munit\u001b[0m\u001b[0;34m=\u001b[0m\u001b[0munit\u001b[0m\u001b[0;34m,\u001b[0m \u001b[0mtotal\u001b[0m\u001b[0;34m=\u001b[0m\u001b[0mlen\u001b[0m\u001b[0;34m(\u001b[0m\u001b[0mitems\u001b[0m\u001b[0;34m)\u001b[0m\u001b[0;34m,\u001b[0m \u001b[0mdesc\u001b[0m\u001b[0;34m=\u001b[0m\u001b[0mdesc\u001b[0m\u001b[0;34m)\u001b[0m\u001b[0;34m:\u001b[0m\u001b[0;34m\u001b[0m\u001b[0m\n\u001b[0;32m--> 515\u001b[0;31m         \u001b[0madd_fn\u001b[0m\u001b[0;34m(\u001b[0m\u001b[0maccumulator\u001b[0m\u001b[0;34m,\u001b[0m \u001b[0mfunction\u001b[0m\u001b[0;34m(\u001b[0m\u001b[0mitem\u001b[0m\u001b[0;34m)\u001b[0m\u001b[0;34m)\u001b[0m\u001b[0;34m\u001b[0m\u001b[0m\n\u001b[0m\u001b[1;32m    516\u001b[0m     \u001b[0;32mreturn\u001b[0m \u001b[0maccumulator\u001b[0m\u001b[0;34m\u001b[0m\u001b[0m\n\u001b[1;32m    517\u001b[0m \u001b[0;34m\u001b[0m\u001b[0m\n",
      "\u001b[0;32m/uscms_data/d3/keanet/SVJ/coffea/EMJAnalysis/coffeaenv/lib/python3.6/site-packages/coffea/processor/executor.py\u001b[0m in \u001b[0;36m__call__\u001b[0;34m(self, *args, **kwargs)\u001b[0m\n\u001b[1;32m    137\u001b[0m     \u001b[0;31m# no @wraps due to pickle\u001b[0m\u001b[0;34m\u001b[0m\u001b[0;34m\u001b[0m\u001b[0m\n\u001b[1;32m    138\u001b[0m     \u001b[0;32mdef\u001b[0m \u001b[0m__call__\u001b[0m\u001b[0;34m(\u001b[0m\u001b[0mself\u001b[0m\u001b[0;34m,\u001b[0m \u001b[0;34m*\u001b[0m\u001b[0margs\u001b[0m\u001b[0;34m,\u001b[0m \u001b[0;34m**\u001b[0m\u001b[0mkwargs\u001b[0m\u001b[0;34m)\u001b[0m\u001b[0;34m:\u001b[0m\u001b[0;34m\u001b[0m\u001b[0m\n\u001b[0;32m--> 139\u001b[0;31m         \u001b[0mout\u001b[0m \u001b[0;34m=\u001b[0m \u001b[0mself\u001b[0m\u001b[0;34m.\u001b[0m\u001b[0mfunction\u001b[0m\u001b[0;34m(\u001b[0m\u001b[0;34m*\u001b[0m\u001b[0margs\u001b[0m\u001b[0;34m,\u001b[0m \u001b[0;34m**\u001b[0m\u001b[0mkwargs\u001b[0m\u001b[0;34m)\u001b[0m\u001b[0;34m\u001b[0m\u001b[0m\n\u001b[0m\u001b[1;32m    140\u001b[0m         \u001b[0;32mreturn\u001b[0m \u001b[0mlz4f\u001b[0m\u001b[0;34m.\u001b[0m\u001b[0mcompress\u001b[0m\u001b[0;34m(\u001b[0m\u001b[0mpickle\u001b[0m\u001b[0;34m.\u001b[0m\u001b[0mdumps\u001b[0m\u001b[0;34m(\u001b[0m\u001b[0mout\u001b[0m\u001b[0;34m,\u001b[0m \u001b[0mprotocol\u001b[0m\u001b[0;34m=\u001b[0m\u001b[0m_PICKLE_PROTOCOL\u001b[0m\u001b[0;34m)\u001b[0m\u001b[0;34m,\u001b[0m \u001b[0mcompression_level\u001b[0m\u001b[0;34m=\u001b[0m\u001b[0mself\u001b[0m\u001b[0;34m.\u001b[0m\u001b[0mlevel\u001b[0m\u001b[0;34m)\u001b[0m\u001b[0;34m\u001b[0m\u001b[0m\n\u001b[1;32m    141\u001b[0m \u001b[0;34m\u001b[0m\u001b[0m\n",
      "\u001b[0;32m/uscms_data/d3/keanet/SVJ/coffea/EMJAnalysis/coffeaenv/lib/python3.6/site-packages/coffea/processor/executor.py\u001b[0m in \u001b[0;36m_work_function\u001b[0;34m(item, processor_instance, flatten, savemetrics, mmap, nano, cachestrategy, skipbadfiles, retries, xrootdtimeout)\u001b[0m\n\u001b[1;32m    831\u001b[0m         \u001b[0;32mexcept\u001b[0m \u001b[0mException\u001b[0m \u001b[0;32mas\u001b[0m \u001b[0me\u001b[0m\u001b[0;34m:\u001b[0m\u001b[0;34m\u001b[0m\u001b[0m\n\u001b[1;32m    832\u001b[0m             \u001b[0;32mif\u001b[0m \u001b[0mretries\u001b[0m \u001b[0;34m==\u001b[0m \u001b[0mretry_count\u001b[0m\u001b[0;34m:\u001b[0m\u001b[0;34m\u001b[0m\u001b[0m\n\u001b[0;32m--> 833\u001b[0;31m                 \u001b[0;32mraise\u001b[0m \u001b[0me\u001b[0m\u001b[0;34m\u001b[0m\u001b[0m\n\u001b[0m\u001b[1;32m    834\u001b[0m             \u001b[0mw_str\u001b[0m \u001b[0;34m=\u001b[0m \u001b[0;34m'Attempt %d of %d. Will retry.'\u001b[0m \u001b[0;34m%\u001b[0m \u001b[0;34m(\u001b[0m\u001b[0mretry_count\u001b[0m \u001b[0;34m+\u001b[0m \u001b[0;36m1\u001b[0m\u001b[0;34m,\u001b[0m \u001b[0mretries\u001b[0m \u001b[0;34m+\u001b[0m \u001b[0;36m1\u001b[0m\u001b[0;34m)\u001b[0m\u001b[0;34m\u001b[0m\u001b[0m\n\u001b[1;32m    835\u001b[0m             \u001b[0mwarnings\u001b[0m\u001b[0;34m.\u001b[0m\u001b[0mwarn\u001b[0m\u001b[0;34m(\u001b[0m\u001b[0mw_str\u001b[0m\u001b[0;34m)\u001b[0m\u001b[0;34m\u001b[0m\u001b[0m\n",
      "\u001b[0;32m/uscms_data/d3/keanet/SVJ/coffea/EMJAnalysis/coffeaenv/lib/python3.6/site-packages/coffea/processor/executor.py\u001b[0m in \u001b[0;36m_work_function\u001b[0;34m(item, processor_instance, flatten, savemetrics, mmap, nano, cachestrategy, skipbadfiles, retries, xrootdtimeout)\u001b[0m\n\u001b[1;32m    792\u001b[0m                 \u001b[0mdf\u001b[0m\u001b[0;34m[\u001b[0m\u001b[0;34m'filename'\u001b[0m\u001b[0;34m]\u001b[0m \u001b[0;34m=\u001b[0m \u001b[0mitem\u001b[0m\u001b[0;34m.\u001b[0m\u001b[0mfilename\u001b[0m\u001b[0;34m\u001b[0m\u001b[0m\n\u001b[1;32m    793\u001b[0m             \u001b[0mtic\u001b[0m \u001b[0;34m=\u001b[0m \u001b[0mtime\u001b[0m\u001b[0;34m.\u001b[0m\u001b[0mtime\u001b[0m\u001b[0;34m(\u001b[0m\u001b[0;34m)\u001b[0m\u001b[0;34m\u001b[0m\u001b[0m\n\u001b[0;32m--> 794\u001b[0;31m             \u001b[0mout\u001b[0m \u001b[0;34m=\u001b[0m \u001b[0mprocessor_instance\u001b[0m\u001b[0;34m.\u001b[0m\u001b[0mprocess\u001b[0m\u001b[0;34m(\u001b[0m\u001b[0mdf\u001b[0m\u001b[0;34m)\u001b[0m\u001b[0;34m\u001b[0m\u001b[0m\n\u001b[0m\u001b[1;32m    795\u001b[0m             \u001b[0mtoc\u001b[0m \u001b[0;34m=\u001b[0m \u001b[0mtime\u001b[0m\u001b[0;34m.\u001b[0m\u001b[0mtime\u001b[0m\u001b[0;34m(\u001b[0m\u001b[0;34m)\u001b[0m\u001b[0;34m\u001b[0m\u001b[0m\n\u001b[1;32m    796\u001b[0m             \u001b[0mmetrics\u001b[0m \u001b[0;34m=\u001b[0m \u001b[0mdict_accumulator\u001b[0m\u001b[0;34m(\u001b[0m\u001b[0;34m)\u001b[0m\u001b[0;34m\u001b[0m\u001b[0m\n",
      "\u001b[0;32m<ipython-input-11-19bf78e56afa>\u001b[0m in \u001b[0;36mprocess\u001b[0;34m(self, df)\u001b[0m\n\u001b[1;32m     47\u001b[0m         \u001b[0mtwoFJets\u001b[0m \u001b[0;34m=\u001b[0m \u001b[0;34m(\u001b[0m\u001b[0mJets\u001b[0m\u001b[0;34m.\u001b[0m\u001b[0mcounts\u001b[0m \u001b[0;34m>=\u001b[0m \u001b[0;36m2\u001b[0m\u001b[0;34m)\u001b[0m\u001b[0;34m\u001b[0m\u001b[0m\n\u001b[1;32m     48\u001b[0m         \u001b[0mJets\u001b[0m \u001b[0;34m=\u001b[0m \u001b[0mJets\u001b[0m\u001b[0;34m[\u001b[0m\u001b[0mtwoFJets\u001b[0m\u001b[0;34m]\u001b[0m\u001b[0;34m.\u001b[0m\u001b[0mdistincts\u001b[0m\u001b[0;34m(\u001b[0m\u001b[0;34m)\u001b[0m\u001b[0;34m\u001b[0m\u001b[0m\n\u001b[0;32m---> 49\u001b[0;31m         \u001b[0mFJetsPt\u001b[0m \u001b[0;34m=\u001b[0m \u001b[0;34m(\u001b[0m\u001b[0mJets\u001b[0m\u001b[0;34m.\u001b[0m\u001b[0mi0\u001b[0m\u001b[0;34m[\u001b[0m\u001b[0;34m'pt'\u001b[0m\u001b[0;34m]\u001b[0m \u001b[0;34m>\u001b[0m \u001b[0;36m200\u001b[0m \u001b[0;32mand\u001b[0m \u001b[0mJets\u001b[0m\u001b[0;34m.\u001b[0m\u001b[0mi1\u001b[0m\u001b[0;34m[\u001b[0m\u001b[0;34m'pt'\u001b[0m\u001b[0;34m]\u001b[0m \u001b[0;34m>\u001b[0m \u001b[0;36m200\u001b[0m\u001b[0;34m)\u001b[0m\u001b[0;34m\u001b[0m\u001b[0m\n\u001b[0m\u001b[1;32m     50\u001b[0m         \u001b[0mJets\u001b[0m \u001b[0;34m=\u001b[0m \u001b[0mJets\u001b[0m\u001b[0;34m[\u001b[0m\u001b[0mFJetsPt\u001b[0m\u001b[0;34m]\u001b[0m\u001b[0;34m\u001b[0m\u001b[0m\n\u001b[1;32m     51\u001b[0m \u001b[0;34m\u001b[0m\u001b[0m\n",
      "\u001b[0;32m/uscms_data/d3/keanet/SVJ/coffea/EMJAnalysis/coffeaenv/lib/python3.6/site-packages/awkward/array/jagged.py\u001b[0m in \u001b[0;36m__getitem__\u001b[0;34m(self, where)\u001b[0m\n\u001b[1;32m    519\u001b[0m \u001b[0;34m\u001b[0m\u001b[0m\n\u001b[1;32m    520\u001b[0m         \u001b[0;32mif\u001b[0m \u001b[0mself\u001b[0m\u001b[0;34m.\u001b[0m\u001b[0m_util_isstringslice\u001b[0m\u001b[0;34m(\u001b[0m\u001b[0mwhere\u001b[0m\u001b[0;34m)\u001b[0m\u001b[0;34m:\u001b[0m\u001b[0;34m\u001b[0m\u001b[0m\n\u001b[0;32m--> 521\u001b[0;31m             \u001b[0mcontent\u001b[0m \u001b[0;34m=\u001b[0m \u001b[0mself\u001b[0m\u001b[0;34m.\u001b[0m\u001b[0m_content\u001b[0m\u001b[0;34m[\u001b[0m\u001b[0mwhere\u001b[0m\u001b[0;34m]\u001b[0m\u001b[0;34m\u001b[0m\u001b[0m\n\u001b[0m\u001b[1;32m    522\u001b[0m             \u001b[0mcls\u001b[0m \u001b[0;34m=\u001b[0m \u001b[0mawkward\u001b[0m\u001b[0;34m.\u001b[0m\u001b[0marray\u001b[0m\u001b[0;34m.\u001b[0m\u001b[0mobjects\u001b[0m\u001b[0;34m.\u001b[0m\u001b[0mMethods\u001b[0m\u001b[0;34m.\u001b[0m\u001b[0mmaybemixin\u001b[0m\u001b[0;34m(\u001b[0m\u001b[0mtype\u001b[0m\u001b[0;34m(\u001b[0m\u001b[0mcontent\u001b[0m\u001b[0;34m)\u001b[0m\u001b[0;34m,\u001b[0m \u001b[0mself\u001b[0m\u001b[0;34m.\u001b[0m\u001b[0mJaggedArray\u001b[0m\u001b[0;34m)\u001b[0m\u001b[0;34m\u001b[0m\u001b[0m\n\u001b[1;32m    523\u001b[0m             \u001b[0mout\u001b[0m \u001b[0;34m=\u001b[0m \u001b[0mcls\u001b[0m\u001b[0;34m.\u001b[0m\u001b[0m__new__\u001b[0m\u001b[0;34m(\u001b[0m\u001b[0mcls\u001b[0m\u001b[0;34m)\u001b[0m\u001b[0;34m\u001b[0m\u001b[0m\n",
      "\u001b[0;32m/uscms_data/d3/keanet/SVJ/coffea/EMJAnalysis/coffeaenv/lib/python3.6/site-packages/awkward/array/table.py\u001b[0m in \u001b[0;36m__getitem__\u001b[0;34m(self, where)\u001b[0m\n\u001b[1;32m    598\u001b[0m                         \u001b[0;32mreturn\u001b[0m \u001b[0mself\u001b[0m\u001b[0;34m.\u001b[0m\u001b[0m_contents\u001b[0m\u001b[0;34m[\u001b[0m\u001b[0mwhere\u001b[0m\u001b[0;34m]\u001b[0m\u001b[0;34m[\u001b[0m\u001b[0mindex\u001b[0m\u001b[0;34m]\u001b[0m\u001b[0;34m\u001b[0m\u001b[0m\n\u001b[1;32m    599\u001b[0m                     \u001b[0;32mexcept\u001b[0m \u001b[0mKeyError\u001b[0m\u001b[0;34m:\u001b[0m\u001b[0;34m\u001b[0m\u001b[0m\n\u001b[0;32m--> 600\u001b[0;31m                         \u001b[0;32mraise\u001b[0m \u001b[0mValueError\u001b[0m\u001b[0;34m(\u001b[0m\u001b[0;34m\"no column named {0}\"\u001b[0m\u001b[0;34m.\u001b[0m\u001b[0mformat\u001b[0m\u001b[0;34m(\u001b[0m\u001b[0mrepr\u001b[0m\u001b[0;34m(\u001b[0m\u001b[0mwhere\u001b[0m\u001b[0;34m)\u001b[0m\u001b[0;34m)\u001b[0m\u001b[0;34m)\u001b[0m\u001b[0;34m\u001b[0m\u001b[0m\n\u001b[0m\u001b[1;32m    601\u001b[0m             \u001b[0;32melse\u001b[0m\u001b[0;34m:\u001b[0m\u001b[0;34m\u001b[0m\u001b[0m\n\u001b[1;32m    602\u001b[0m                 \u001b[0mcontents\u001b[0m \u001b[0;34m=\u001b[0m \u001b[0mOrderedDict\u001b[0m\u001b[0;34m(\u001b[0m\u001b[0;34m)\u001b[0m\u001b[0;34m\u001b[0m\u001b[0m\n",
      "\u001b[0;31mValueError\u001b[0m: no column named 'pt'"
     ]
    }
   ],
   "source": [
    "tstart = time.time() \n",
    "\n",
    "if not useDask:\n",
    "    output = processor.run_uproot_job(sample_dict16,\n",
    "                                      treename='bkg_tree',\n",
    "                                      processor_instance=EMJProcessor(),\n",
    "                                      executor=processor.iterative_executor,\n",
    "                                      executor_args={\n",
    "                                          'skipbadfiles':True,\n",
    "                                          'nano':False, \n",
    "                                          'flatten':True, \n",
    "                                          'workers': 4},\n",
    "                                      chunksize=50000,\n",
    "                                     )\n",
    "else:\n",
    "    output = processor.run_uproot_job(sample_dict16,\n",
    "                                      treename='bkg_tree',\n",
    "                                      processor_instance=EMJProcessor(),\n",
    "                                      executor=processor.dask_executor,\n",
    "                                      executor_args={\n",
    "                                          'skipbadfiles':True,\n",
    "                                          'client': client, \n",
    "                                          'nano':False, \n",
    "                                          'flatten':True, \n",
    "                                          'workers': 2},\n",
    "                                      chunksize=50000\n",
    "                                     )\n",
    "\n",
    "elapsed = time.time() - tstart\n",
    "print(output)"
   ]
  },
  {
   "cell_type": "code",
   "execution_count": null,
   "metadata": {},
   "outputs": [],
   "source": [
    "print(\"Events/s:\", output['cutflow']['all events']/elapsed)"
   ]
  },
  {
   "cell_type": "code",
   "execution_count": 28,
   "metadata": {},
   "outputs": [
    {
     "data": {
      "text/plain": [
       "{'jtpt': <Hist (dataset,pt) instance at 0x7f7403834e10>,\n",
       " 'jteta': <Hist (dataset,eta) instance at 0x7f7403834160>,\n",
       " 'jtphi': <Hist (dataset,phi) instance at 0x7f7403834c88>,\n",
       " 'jtmass': <Hist (dataset,mass) instance at 0x7f74038346a0>,\n",
       " 'cutflow': defaultdict_accumulator(int, {'all events': 22288690})}"
      ]
     },
     "execution_count": 28,
     "metadata": {},
     "output_type": "execute_result"
    }
   ],
   "source": [
    "# Everything contained in the 'output' dictionary\n",
    "output"
   ]
  },
  {
   "cell_type": "code",
   "execution_count": 29,
   "metadata": {},
   "outputs": [
    {
     "data": {
      "text/plain": [
       "defaultdict_accumulator(int, {'all events': 22288690})"
      ]
     },
     "execution_count": 29,
     "metadata": {},
     "output_type": "execute_result"
    }
   ],
   "source": [
    "# The cutflow accumulator\n",
    "output['cutflow']"
   ]
  },
  {
   "cell_type": "code",
   "execution_count": 30,
   "metadata": {},
   "outputs": [
    {
     "data": {
      "text/plain": [
       "[<StringBin (QCD16_Mixed) instance at 0x7f740381ae10>]"
      ]
     },
     "execution_count": 30,
     "metadata": {},
     "output_type": "execute_result"
    }
   ],
   "source": [
    "# List all of the processes on the 'dataset' axis for the jtpt histogram\n",
    "output['jtpt'].axis('dataset').identifiers()"
   ]
  },
  {
   "cell_type": "markdown",
   "metadata": {},
   "source": [
    "## Make Plots"
   ]
  },
  {
   "cell_type": "markdown",
   "metadata": {},
   "source": [
    "### Configuration"
   ]
  },
  {
   "cell_type": "code",
   "execution_count": 31,
   "metadata": {},
   "outputs": [],
   "source": [
    "plt.rcParams[\"image.cmap\"] = 'Blues'"
   ]
  },
  {
   "cell_type": "markdown",
   "metadata": {},
   "source": [
    "### Jet Plots"
   ]
  },
  {
   "cell_type": "code",
   "execution_count": 32,
   "metadata": {
    "scrolled": false
   },
   "outputs": [
    {
     "data": {
      "image/png": "[encoded data removed]",
      "text/plain": [
       "<Figure size 432x288 with 1 Axes>"
      ]
     },
     "metadata": {
      "needs_background": "light"
     },
     "output_type": "display_data"
    },
    {
     "data": {
      "image/png": "[encoded data removed]",
      "text/plain": [
       "<Figure size 432x288 with 1 Axes>"
      ]
     },
     "metadata": {
      "needs_background": "light"
     },
     "output_type": "display_data"
    },
    {
     "data": {
      "image/png": "[encoded data removed]",
      "text/plain": [
       "<Figure size 432x288 with 1 Axes>"
      ]
     },
     "metadata": {
      "needs_background": "light"
     },
     "output_type": "display_data"
    },
    {
     "data": {
      "image/png": "[encoded data removed]",
      "text/plain": [
       "<Figure size 432x288 with 1 Axes>"
      ]
     },
     "metadata": {
      "needs_background": "light"
     },
     "output_type": "display_data"
    }
   ],
   "source": [
    "hnames = ['jtpt','jteta','jtphi','jtmass']\n",
    "logx = [1,0,0,1]\n",
    "logy = [1,0,0,1]\n",
    "for ih, hname in enumerate(hnames):\n",
    "    ax = hist.plot1d(output[hname], overlay=\"dataset\", stack=False, density=False,\n",
    "                      )\n",
    "    plt.yscale(\"log\")\n",
    "    plt.ylim(1000, 10000000)\n",
    "#     plt.xlim(-1.4,0.2)\n",
    "#     plt.xscale(\"log\")\n",
    "#     if logx[ih]: plt.xscale(\"log\")\n",
    "#     if logy[ih]: \n",
    "#     for iax in ax.flatten():\n",
    "#         iax.autoscale(axis='y')\n",
    "    plt.show()\n",
    "    "
   ]
  },
  {
   "cell_type": "code",
   "execution_count": 33,
   "metadata": {},
   "outputs": [
    {
     "data": {
      "text/plain": [
       "(0, 3000000)"
      ]
     },
     "execution_count": 33,
     "metadata": {},
     "output_type": "execute_result"
    },
    {
     "data": {
      "image/png": "[encoded data removed]",
      "text/plain": [
       "<Figure size 432x288 with 1 Axes>"
      ]
     },
     "metadata": {
      "needs_background": "light"
     },
     "output_type": "display_data"
    }
   ],
   "source": [
    "%matplotlib inline\n",
    "\n",
    "ax = hist.plot1d(output['jtpt'], overlay='dataset')\n",
    "ax.set_xlim(0,3500)\n",
    "ax.set_ylim(0, 3000000)"
   ]
  },
  {
   "cell_type": "code",
   "execution_count": null,
   "metadata": {},
   "outputs": [],
   "source": []
  }
 ],
 "metadata": {
  "kernelspec": {
   "display_name": "coffeaenv",
   "language": "python",
   "name": "coffeaenv"
  },
  "language_info": {
   "codemirror_mode": {
    "name": "ipython",
    "version": 3
   },
   "file_extension": ".py",
   "mimetype": "text/x-python",
   "name": "python",
   "nbconvert_exporter": "python",
   "pygments_lexer": "ipython3",
   "version": "3.6.5"
  }
 },
 "nbformat": 4,
 "nbformat_minor": 2
}
