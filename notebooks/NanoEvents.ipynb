{
 "cells": [
  {
   "cell_type": "markdown",
   "metadata": {},
   "source": [
    "# Play around with Coffea's NanoEvents"
   ]
  },
  {
   "cell_type": "markdown",
   "metadata": {},
   "source": [
    "## Import modules"
   ]
  },
  {
   "cell_type": "code",
   "execution_count": null,
   "metadata": {},
   "outputs": [],
   "source": [
    "import os, sys\n",
    "\n",
    "# Add coffea packages to the import path\n",
    "venv_path=os.environ['VIRTUAL_ENV']\n",
    "site_path=venv_path+\"/lib/python3.6/site-packages/\"\n",
    "sys.path.insert(0, site_path)\n",
    "\n",
    "# Add local packages to the import path\n",
    "module_path = os.path.abspath(os.path.join('..'))\n",
    "if module_path not in sys.path:\n",
    "    sys.path.append(module_path)\n",
    "\n",
    "from coffea.nanoaod import NanoEvents\n",
    "from utils.python.xrootd import *"
   ]
  },
  {
   "cell_type": "markdown",
   "metadata": {},
   "source": [
    "## Get the files"
   ]
  },
  {
   "cell_type": "code",
   "execution_count": null,
   "metadata": {},
   "outputs": [],
   "source": [
    "xrootd_endpoint=\"root://hepxrd01.colorado.edu:1094/\"\n",
    "xrootd_base_path=\"/store/user/aperloff/ExoEMJAnalysis2020/Run2ProductionV18eDebug/\"\n",
    "sample_dict = get_files_xrootd(xrootd_endpoint,xrootd_base_path,dicts=[\"EMJ2016\"],verbose=1,debug=(2,2))"
   ]
  },
  {
   "cell_type": "markdown",
   "metadata": {},
   "source": [
    "## Try to make NanoEvents work"
   ]
  },
  {
   "cell_type": "code",
   "execution_count": null,
   "metadata": {},
   "outputs": [],
   "source": [
    "# Try to open with NanoEvents\n",
    "filename=list(sample_dict.values())[0][0]\n",
    "events = NanoEvents.from_file(filename,treename=\"TreeMaker2/PreSelection\")\n",
    "print(events.columns)\n",
    "print(events.Jets.columns)\n",
    "print(events.Tracks.columns)\n",
    "print(type(events.Tracks.referencePoint))\n",
    "print(events.Tracks.referencePoint) # This isn't right\n",
    "#print(events.Jets.pt) # It isn't grouping the Lorentz/displacement vectors correctly"
   ]
  }
 ],
 "metadata": {
  "kernelspec": {
   "display_name": "coffeaenv",
   "language": "python",
   "name": "coffeaenv"
  },
  "language_info": {
   "codemirror_mode": {
    "name": "ipython",
    "version": 3
   },
   "file_extension": ".py",
   "mimetype": "text/x-python",
   "name": "python",
   "nbconvert_exporter": "python",
   "pygments_lexer": "ipython3",
   "version": "3.6.5"
  }
 },
 "nbformat": 4,
 "nbformat_minor": 2
}
