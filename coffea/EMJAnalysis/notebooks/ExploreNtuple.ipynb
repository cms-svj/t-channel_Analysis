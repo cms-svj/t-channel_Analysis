{
 "cells": [
  {
   "cell_type": "markdown",
   "metadata": {},
   "source": [
    "# Explore the TreeMaker ntuple structure"
   ]
  },
  {
   "cell_type": "markdown",
   "metadata": {},
   "source": [
    "## Import modules"
   ]
  },
  {
   "cell_type": "code",
   "execution_count": null,
   "metadata": {},
   "outputs": [],
   "source": [
    "import os, sys, uproot\n",
    "import awkward1 as ak\n",
    "\n",
    "# Add coffea packages to the import path\n",
    "venv_path=os.environ['VIRTUAL_ENV']\n",
    "site_path=venv_path+\"/lib/python3.6/site-packages/\"\n",
    "sys.path.insert(0, site_path)\n",
    "\n",
    "# Add local packages to the import path\n",
    "module_path = os.path.abspath(os.path.join('..'))\n",
    "if module_path not in sys.path:\n",
    "    sys.path.append(module_path)\n",
    "\n",
    "from utils.python.xrootd import *"
   ]
  },
  {
   "cell_type": "markdown",
   "metadata": {},
   "source": [
    "## Get the files"
   ]
  },
  {
   "cell_type": "code",
   "execution_count": null,
   "metadata": {},
   "outputs": [],
   "source": [
    "xrootd_endpoint=\"root://hepxrd01.colorado.edu:1094/\"\n",
    "xrootd_base_path=\"/store/user/aperloff/ExoEMJAnalysis2020/Run2ProductionV18eDebug/\"\n",
    "sample_dict = get_files_xrootd(xrootd_endpoint,xrootd_base_path,dicts=[\"EMJ2016\"],verbose=1,debug=(1,1))"
   ]
  },
  {
   "cell_type": "markdown",
   "metadata": {},
   "source": [
    "## Open a file with uproot"
   ]
  },
  {
   "cell_type": "code",
   "execution_count": null,
   "metadata": {},
   "outputs": [],
   "source": [
    "# Grab the first filename\n",
    "filename0 = list(sample_dict.values())[0][0]\n",
    "print(filename0)\n",
    "\n",
    "file=uproot.open(filename0)\n",
    "print(file)\n",
    "print(\"\\tName: %s\" % file.name)"
   ]
  },
  {
   "cell_type": "markdown",
   "metadata": {},
   "source": [
    "## Tree Structure"
   ]
  },
  {
   "cell_type": "code",
   "execution_count": null,
   "metadata": {},
   "outputs": [],
   "source": [
    "tree = file[\"TreeMaker2/PreSelection\"]\n",
    "print(tree)\n",
    "print(\"\\tName: %s\\n\\tTitle: %s\\n\\tEvents: %i\" % (tree.name,tree.title,tree.numentries))\n",
    "print(\"Available keys:\")\n",
    "print(tree.keys(),\"\\n\\n\")\n",
    "print(\"Tree Branches:\")\n",
    "tree.show()"
   ]
  },
  {
   "cell_type": "markdown",
   "metadata": {},
   "source": [
    "## JaggedArray Structure"
   ]
  },
  {
   "cell_type": "code",
   "execution_count": null,
   "metadata": {},
   "outputs": [],
   "source": [
    "# Look at the structure/values of specific branches\n",
    "example_arrays=tree.arrays([\"Tracks.fCoordinates.fX\",\"Tracks_referencePoint.fCoordinates.fX\",\n",
    "                            \"Tracks_referencePoint.fCoordinates.fY\",\"Tracks_referencePoint.fCoordinates.fZ\"])\n",
    "print(example_arrays.keys())\n",
    "print(example_arrays[b\"Tracks.fCoordinates.fX\"].counts)\n",
    "print(example_arrays[b\"Tracks_referencePoint.fCoordinates.fX\"].counts)\n",
    "print(example_arrays[b\"Tracks_referencePoint.fCoordinates.fX\"])\n",
    "print(example_arrays[b\"Tracks_referencePoint.fCoordinates.fY\"])"
   ]
  },
  {
   "cell_type": "code",
   "execution_count": null,
   "metadata": {},
   "outputs": [],
   "source": [
    "# Make a 3-vector out of the Tracks_referencePoint\n",
    "referencePoint=ak.zip({\"x\": example_arrays[b'Tracks_referencePoint.fCoordinates.fX'],\n",
    "                       \"y\": example_arrays[b'Tracks_referencePoint.fCoordinates.fY'],\n",
    "                       \"z\": example_arrays[b'Tracks_referencePoint.fCoordinates.fZ']},\n",
    "                      with_name=\"ThreeVector\")\n",
    "print(type(referencePoint))\n",
    "print(referencePoint)\n",
    "print(len(referencePoint[0]))"
   ]
  },
  {
   "cell_type": "code",
   "execution_count": null,
   "metadata": {},
   "outputs": [],
   "source": []
  }
 ],
 "metadata": {
  "kernelspec": {
   "display_name": "coffeaenv",
   "language": "python",
   "name": "coffeaenv"
  },
  "language_info": {
   "codemirror_mode": {
    "name": "ipython",
    "version": 3
   },
   "file_extension": ".py",
   "mimetype": "text/x-python",
   "name": "python",
   "nbconvert_exporter": "python",
   "pygments_lexer": "ipython3",
   "version": "3.6.5"
  }
 },
 "nbformat": 4,
 "nbformat_minor": 2
}
